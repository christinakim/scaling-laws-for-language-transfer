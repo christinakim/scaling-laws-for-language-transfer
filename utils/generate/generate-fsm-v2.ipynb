{
 "cells": [
  {
   "cell_type": "code",
   "execution_count": 40,
   "metadata": {},
   "outputs": [
    {
     "name": "stdout",
     "output_type": "stream",
     "text": [
      "states: 81\n",
      "alphabet: {'X', 'H', 'x', 'a', anything_else, 'd', 't', 'M', 'n', 'B', '8', '2', '3', '6', 'g', '7', 'Q', 'p', 'r', '4', 'F', 'e', '5', 'k', 'D', 'T', '9', 'q', 'A', 'C', '0', 's', 'W', 'I', 'S', 'y', 'i', 'J', 'G', 'u', 'h', '1', 'Z', 'j', 'z', 'O', 'Y', 'w', 'K', 'b', 'V', 'R', 'L', 'f', 'c', 'U', 'o', 'v', 'E', 'P', 'l', 'm', 'N'}\n",
      "transitions: 81\n",
      "final: {28, 5}\n"
     ]
    }
   ],
   "source": [
    "import random\n",
    "import exrex\n",
    "from greenery import lego, fsm\n",
    "regex = \"(00(1|2|3|4|5|6|7|8|9)|Z)[a-z]|(abc)|a((00(1|2|3|4|5|6|7|8|9)|Z)|(a+(def|ghij)s?(klmnaZo|pqrstu)?))[a-f](asd(klmno|pqrstu)asdASDGag)?(vwx|z)(V|WX|(vwxy+|z?))([B-Z]*|[a-z])+(vwxy+|z?)+(t|(a+(b|c)lkl(def|ghij)s?(klmno|pqrstu)))(vwxy|z)([A-Z]*|[a-z])+\"\n",
    "parsed = lego.parse(regex)\n",
    "fa = parsed.to_fsm()\n",
    "print('states: {}'.format(len(fa.states)))\n",
    "print('alphabet: {}'.format(fa.alphabet))\n",
    "print('transitions: {}'.format(len(fa.map)))\n",
    "print('final: {}'.format(fa.finals))"
   ]
  },
  {
   "cell_type": "code",
   "execution_count": 29,
   "metadata": {},
   "outputs": [
    {
     "data": {
      "text/plain": [
       "['001', '002', '003', '004', '005', '006', '007', '008', '009', 'Z']"
      ]
     },
     "execution_count": 29,
     "metadata": {},
     "output_type": "execute_result"
    }
   ],
   "source": [
    "generated = list(exrex.generate(regex, limit=1))\n",
    "generated[:10]"
   ]
  },
  {
   "cell_type": "code",
   "execution_count": 32,
   "metadata": {},
   "outputs": [
    {
     "data": {
      "text/plain": [
       "178433"
      ]
     },
     "execution_count": 32,
     "metadata": {},
     "output_type": "execute_result"
    }
   ],
   "source": [
    "limit=2\n",
    "word_count = exrex.count(regex, limit=limit)\n",
    "word_count"
   ]
  },
  {
   "cell_type": "code",
   "execution_count": 33,
   "metadata": {},
   "outputs": [
    {
     "data": {
      "text/plain": [
       "'/datadrive/formal_language/states_80_symbols_63_transitions_1477_finals_2'"
      ]
     },
     "execution_count": 33,
     "metadata": {},
     "output_type": "execute_result"
    }
   ],
   "source": [
    "num_states = len(fa.states)\n",
    "num_symbols = len(fa.alphabet) + 1\n",
    "num_transitions = (sum(len(transitions) for transitions in fa.map.values()))\n",
    "num_finals = len(fa.finals)\n",
    "folder_name = \"states_{}_symbols_{}_transitions_{}_finals_{}\".format(num_states, num_symbols - 1, num_transitions, num_finals)\n",
    "folder_path = \"/datadrive/formal_language/{}\".format(folder_name)\n",
    "folder_path"
   ]
  },
  {
   "cell_type": "code",
   "execution_count": 34,
   "metadata": {},
   "outputs": [],
   "source": [
    "import os\n",
    "os.mkdir(folder_path)\n"
   ]
  },
  {
   "cell_type": "code",
   "execution_count": 35,
   "metadata": {},
   "outputs": [
    {
     "data": {
      "text/plain": [
       "[<_io.TextIOWrapper name='/datadrive/formal_language/states_80_symbols_63_transitions_1477_finals_2/0_shard_shuff.txt' mode='w+' encoding='UTF-8'>,\n",
       " <_io.TextIOWrapper name='/datadrive/formal_language/states_80_symbols_63_transitions_1477_finals_2/1_shard_shuff.txt' mode='w+' encoding='UTF-8'>,\n",
       " <_io.TextIOWrapper name='/datadrive/formal_language/states_80_symbols_63_transitions_1477_finals_2/2_shard_shuff.txt' mode='w+' encoding='UTF-8'>]"
      ]
     },
     "execution_count": 35,
     "metadata": {},
     "output_type": "execute_result"
    }
   ],
   "source": [
    "files = []\n",
    "file_names = []\n",
    "for i in range(3):\n",
    "    file_path = \"{}/{}_shard_shuff.txt\".format(folder_path, i)\n",
    "    files.append(open(file_path, 'w+'))\n",
    "    file_names.append(file_path)\n",
    "\n",
    "    \n",
    "files"
   ]
  },
  {
   "cell_type": "code",
   "execution_count": 36,
   "metadata": {},
   "outputs": [],
   "source": [
    "gen = exrex.generate(regex, limit=limit)\n",
    "for i in range(word_count):\n",
    "    word = next(gen)\n",
    "    if i % 10 in (0, 1, 2, 3, 4, 5):\n",
    "        file_index = 0\n",
    "    elif i % 10 in (6,7):\n",
    "        file_index = 1\n",
    "    elif i % 10 in (8,9):\n",
    "        file_index = 2\n",
    "    f = files[file_index]\n",
    "    f.write(\"%s\\n\" % word)\n",
    "for file in files:\n",
    "    file.close()\n",
    "            "
   ]
  },
  {
   "cell_type": "code",
   "execution_count": 37,
   "metadata": {},
   "outputs": [
    {
     "name": "stdout",
     "output_type": "stream",
     "text": [
      "107061\n",
      "35686\n",
      "35686\n"
     ]
    }
   ],
   "source": [
    "import random\n",
    "for file_name in file_names:\n",
    "    lines = open(file_name).readlines()\n",
    "    print(len(lines))\n",
    "    random.shuffle(lines)\n",
    "    open(file_name, 'w').writelines(lines)"
   ]
  },
  {
   "cell_type": "code",
   "execution_count": 38,
   "metadata": {},
   "outputs": [],
   "source": [
    "info_file_path = \"{}/info.txt\".format(folder_path)\n",
    "with open(info_file_path, 'w+') as info_file:\n",
    "    info_file.write('regex={} \\nstates: {} \\naphabet: {} \\ntransitions: {} \\nfinals: {}'.format(regex, fa.states, fa.alphabet, fa.map, fa.finals ))\n",
    "vocab_file_path = \"{}/vocab.txt\".format(folder_path)\n",
    "with open(vocab_file_path, 'w+') as vocab_file:\n",
    "    for n in fa.alphabet:\n",
    "        if type(n) == str:\n",
    "            vocab_file.write(n + '\\n')"
   ]
  },
  {
   "cell_type": "code",
   "execution_count": 39,
   "metadata": {},
   "outputs": [
    {
     "name": "stdout",
     "output_type": "stream",
     "text": [
      "states_80_symbols_63_transitions_1477_finals_2\n"
     ]
    }
   ],
   "source": [
    "print(folder_name)"
   ]
  },
  {
   "cell_type": "code",
   "execution_count": null,
   "metadata": {},
   "outputs": [],
   "source": []
  }
 ],
 "metadata": {
  "kernelspec": {
   "display_name": "Python 3",
   "language": "python",
   "name": "python3"
  },
  "language_info": {
   "codemirror_mode": {
    "name": "ipython",
    "version": 3
   },
   "file_extension": ".py",
   "mimetype": "text/x-python",
   "name": "python",
   "nbconvert_exporter": "python",
   "pygments_lexer": "ipython3",
   "version": "3.8.5"
  }
 },
 "nbformat": 4,
 "nbformat_minor": 4
}
