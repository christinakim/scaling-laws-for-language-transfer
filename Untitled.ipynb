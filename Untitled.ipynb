{
 "cells": [
  {
   "cell_type": "code",
   "execution_count": 5,
   "metadata": {},
   "outputs": [
    {
     "name": "stdout",
     "output_type": "stream",
     "text": [
      "Requirement already satisfied: zstandard in /anaconda/envs/sandbox1/lib/python3.8/site-packages (0.15.1)\n",
      "Collecting jsonlines\n",
      "  Downloading jsonlines-2.0.0-py3-none-any.whl (6.3 kB)\n",
      "Installing collected packages: jsonlines\n",
      "Successfully installed jsonlines-2.0.0\n"
     ]
    }
   ],
   "source": [
    "!pip install zstandard\n",
    "!pip install jsonlines\n",
    "import os\n",
    "import zstandard\n",
    "import json\n",
    "import jsonlines\n",
    "import io\n",
    "import datetime\n",
    "\n",
    "def json_serial(obj):\n",
    "    \"\"\"JSON serializer for objects not serializable by default json code\"\"\"\n",
    "\n",
    "    if isinstance(obj, (datetime.datetime,)):\n",
    "        return obj.isoformat()\n",
    "    raise TypeError (\"Type %s not serializable\" % type(obj))\n",
    "\n",
    "# Modified version of lm_dataformat Archive for single file.\n",
    "class Archive:\n",
    "    def __init__(self, file_path, compression_level=3):\n",
    "        self.file_path = file_path\n",
    "        dir_name = os.path.dirname(file_path)\n",
    "        if dir_name:\n",
    "            os.makedirs(dir_name, exist_ok=True)    \n",
    "        self.fh = open(self.file_path, 'wb')\n",
    "        self.cctx = zstandard.ZstdCompressor(level=compression_level)\n",
    "        self.compressor = self.cctx.stream_writer(self.fh)        \n",
    "    \n",
    "    def add_data(self, data, meta={}):\n",
    "        self.compressor.write(json.dumps({'text': data, 'meta': meta}, default=json_serial).encode('UTF-8') + b'\\n')\n",
    "    \n",
    "    def commit(self):\n",
    "        self.compressor.flush(zstandard.FLUSH_FRAME)        \n",
    "        self.fh.flush()\n",
    "        self.fh.close()\n",
    "\n",
    "# Modified version of lm_dataformat Reader with self.fh set, allowing peeking for tqdm.\n",
    "class Reader:\n",
    "    def __init__(self):\n",
    "        pass\n",
    "\n",
    "    def read_jsonl(self, file, get_meta=False, autojoin_paragraphs=True, para_joiner='\\n\\n'):\n",
    "        with open(file, 'rb') as fh:\n",
    "            self.fh = fh\n",
    "            cctx = zstandard.ZstdDecompressor()\n",
    "            reader = io.BufferedReader(cctx.stream_reader(fh))\n",
    "            rdr = jsonlines.Reader(reader)\n",
    "            for ob in rdr:\n",
    "                # naive jsonl where each object is just the string itself, with no meta. For legacy compatibility.\n",
    "                if isinstance(ob, str):\n",
    "                    assert not get_meta\n",
    "                    yield ob\n",
    "                    continue\n",
    "\n",
    "                text = ob['text']\n",
    "\n",
    "                if autojoin_paragraphs and isinstance(text, list):\n",
    "                    text = para_joiner.join(text)\n",
    "\n",
    "                if get_meta:\n",
    "                    yield text, (ob['meta'] if 'meta' in ob else {})\n",
    "                else:\n",
    "                    yield text"
   ]
  },
  {
   "cell_type": "code",
   "execution_count": 14,
   "metadata": {},
   "outputs": [
    {
     "name": "stderr",
     "output_type": "stream",
     "text": [
      "100%|██████████| 179/179 [00:00<00:00, 3336.43it/s]"
     ]
    },
    {
     "name": "stdout",
     "output_type": "stream",
     "text": [
      "Total Document Count: 179\n",
      "Total Uncompressed Text Size: 0.00 GB\n"
     ]
    },
    {
     "name": "stderr",
     "output_type": "stream",
     "text": [
      "\n"
     ]
    }
   ],
   "source": [
    "import glob\n",
    "import os\n",
    "import math\n",
    "\n",
    "import tqdm\n",
    "\n",
    "document_count = 0\n",
    "total_text_size = 0\n",
    "dataset_directory = \"/datadrive/openwebtext2\"\n",
    "files = glob.glob(os.path.join(dataset_directory, \"*jsonl.zst\"))\n",
    "for file_path in tqdm.tqdm(files, dynamic_ncols=True):\n",
    "    reader = Reader()\n",
    "    for document, metadata in reader.read_jsonl(file_path, get_meta=True):\n",
    "        \n",
    "        document_count += 1\n",
    "        total_text_size += len(document)\n",
    "        break\n",
    "\n",
    "billion = math.pow(10, 9)\n",
    "print(f\"Total Document Count: {document_count:,}\")\n",
    "print(f\"Total Uncompressed Text Size: {(total_text_size / billion):.2f} GB\")"
   ]
  },
  {
   "cell_type": "code",
   "execution_count": 15,
   "metadata": {},
   "outputs": [
    {
     "name": "stderr",
     "output_type": "stream",
     "text": [
      "  0%|          | 0/179 [00:00<?, ?it/s]"
     ]
    },
    {
     "name": "stdout",
     "output_type": "stream",
     "text": [
      "Judge arrested in Aruba case Fifth suspect in custody after U.S. teen's disappearance Paul Van Der Sloot was arrested after being questioned by police as a witness over the weekend. RELATED Gallery: Missing Aruba teen  Texas team to aid search  Publicity a concern for tourism  Was race a factor in arrests?  Interactive: Safety tips for travelers YOUR E-MAIL ALERTS Aruba Alabama Crime, Law and Justice or or Create Your Own ORANJESTAD, Aruba (CNN) -- An Aruban judge, the father of a 17-year-old suspect in the disappearance of an Alabama teenager, also has been arrested in the case, the island's police commissioner said Thursday. Prosecutors decided to keep Paul Van Der Sloot, 53, in custody for questioning for 48 hours, Aruba Police Commissioner Jan Van Der Straten said. Under Aruban law, if there is reasonable suspicion, the prosecutor's office can order a suspect held as long as another 48 hours. After that, a judge's decision is required to keep a suspect in jail. The legal system in Aruba, an autonomous member of the Kingdom of the Netherlands, is based partly on Dutch civil law. The father was arrested at about 2 p.m. on suspicion of involvement in the disappearance of Natalee Holloway, an 18-year-old from suburban Birmingham, Alabama, said prosecution spokeswoman Mariaine Croes. \"At this point he's a suspect,\" Croes said. \"There's a reasonable suspicion that he knows something and is involved in the disappearance of Ms. Holloway.\" Police questioned him over the weekend in connection with the case. A law enforcement source close to the investigation said at the time that the judge was interviewed as a witness. He spent about five hours in the police station Saturday for questioning and was brought in again on Sunday while his wife, Anita, visited their 17-year-old son, Joran. Last week, an Aruban judge ruled that Paul Van Der Sloot could not visit his son in jail. Earlier, authorities had searched Van Der Sloot's home, seizing two cars and removing bagfuls of evidence. Anita Van Der Sloot said Thursday her husband's arrest is \"ridiculous.\" \"It hurts because my husband gave 15 years of his integrity to this island, and that this could happen is so bizarre.\" \"I don't understand, and I know a lot of people don't understand, what's going on,\" she said. \"I'm very angry, but I will hold up.\" \"I have to because I believe in my husband, I believe in my son,\" she said. \"It will all will be fine.\" She said she met with Joran for about 40 minutes Thursday before receiving word that police were at her home to arrest her husband. Her son is \"doing fine,\" she said. \"I know he's innocent, and he knows he's innocent.\" Family 'relieved' Natalee Holloway's aunt, Marcia Twitty, said her family was \"very relieved\" by the judge's arrest. \"Maybe we can get somewhere and finally get these answers that they so desperately, desperately want,\" she told CNN from Alabama. The missing girl's father, David Holloway, said the arrest \"just adds that additional piece to the puzzle. \"How big is the puzzle? I don't know, but the pieces are falling into place and falling into place very quickly,\" he told CNN affiliate WBRC. Natalee's mother, Beth Holloway Twitty, said Wednesday she's sure the four young men in custody -- but not formally charged in the case -- have more information to divulge. \"I have no doubt that they know what and who and where and when and why and how. I have no doubt,\" Twitty said on NBC's \"Today Show.\" \"There are some other individuals, though, that need to be pursued,\" she added. Twitty told CNN she met Tuesday with the parents of Joran Van Der Sloot. He's one of the last people reported to have seen Holloway. She said the Van Der Sloots invited her into their home when she was handing out prayer cards in their neighborhood. Twitty refused to give details about their 90-minute discussion. \"I think I walked away with the confirmation that we still have some individuals that we need to pursue,\" she said. Holloway, an honors student from the Birmingham suburb of Mountain Brook, disappeared May 30 after she left a nightclub with Joran Van Der Sloot and brothers Deepak and Satish Kalpoe, ages 21 and 18 respectively, authorities said. She was in Aruba, a small Caribbean island of 72,000 residents just north of Venezuela, with about 100 classmates to celebrate their recent graduation. The three men and a fourth suspect, 26-year-old disc jockey Steve Croes, face accusations of murder and kidnapping leading to murder. Twitty says she has seen \"no evidence whatsoever\" that her daughter is dead. Defense attorneys for Van Der Sloot and the Kalpoes have said their clients maintain their innocence. Marcia Twitty said that after meeting with the Van Der Sloots, the missing girl's mother told her: \"'I still feel like that dad knows something about where Natalee is.'\" \"She's in very close contact with officials, both Aruban and FBI,\" she said. \"They talk daily.\" Satish Kalpoe to mom: 'We didn't do anything' The mother of the Kalpoes said Thursday that one son had admitted he and his brother made up a cover story to protect Joran Van Der Sloot. Nadira Ramirez told CNN she was permitted to visit son Satish Kalpoe at Aruba's prison within the past week. She stressed that the teen told her their story was not planned ahead of Holloway's disappearance, and she had no advance knowledge of it. Initially, Ramirez said, her sons had told her and police they dropped Holloway off at the Holiday Inn, where she was staying. But Satish Kalpoe told his mother later that was a lie aimed at protecting Van Der Sloot. In fact, he told his mother, he and his brother had dropped Holloway and Van Der Sloot off at the beach by the Marriott hotel, about a mile from the Holiday Inn. Ramirez's account echoes comments made by one of two security guards who were arrested June 5 in connection with the case and released June 13. The guards, Abraham Jones, 28, and Mickey John, 30, were never charged. After his release, John said Deepak Kalpoe confided to him while they were in jail together that he had lied to police. (CNN Access) Ramirez tearfully said her son insisted he and his brother were innocent. \"'We didn't do anything. We will be out from here. Don't cry,'\" she said he told her. \"I asked him, 'Satish, are you sure you guys didn't do anything?'\" she said. She said he responded: \"'No, mama. We gave that girl and Joran a lift.' \"They don't even know Natalee. They said she didn't even introduce herself to them,\" she said. \"They don't know anything else about that.\" Although she has been suffering and unable to eat since her sons' arrest, Ramirez said she remains confident they will be cleared. She described her family as a close and traditional Hindu group and said both sons are \"good boys.\" Satish does not drink, she said, and while Deepak drinks occasionally, neither youth takes drugs. CNN's Karl Penhaul and Patrick Oppmann contributed to this report. Home Page Get up-to-the minute news from CNN CNN.com gives you the latest stories and video from the around the world, with in-depth coverage of U.S. news, politics, entertainment, health, crime, tech and more. Home Page Get up-to-the minute news from CNN CNN.com gives you the latest stories and video from the around the world, with in-depth coverage of U.S. news, politics, entertainment, health, crime, tech and more.\n",
      "Total Document Count: 1\n",
      "Total Uncompressed Text Size: 0.00 GB\n"
     ]
    },
    {
     "name": "stderr",
     "output_type": "stream",
     "text": [
      "\n"
     ]
    }
   ],
   "source": [
    "import glob\n",
    "import os\n",
    "import math\n",
    "\n",
    "import tqdm\n",
    "\n",
    "document_count = 0\n",
    "total_text_size = 0\n",
    "dataset_directory = \"/datadrive/openwebtext2\"\n",
    "files = glob.glob(os.path.join(dataset_directory, \"*jsonl.zst\"))\n",
    "for file_path in tqdm.tqdm(files, dynamic_ncols=True):\n",
    "    reader = Reader()\n",
    "    for document, metadata in reader.read_jsonl(file_path, get_meta=True):\n",
    "        print(document)\n",
    "        document_count += 1\n",
    "        total_text_size += len(document)\n",
    "        break\n",
    "    break\n",
    "\n",
    "billion = math.pow(10, 9)\n",
    "print(f\"Total Document Count: {document_count:,}\")\n",
    "print(f\"Total Uncompressed Text Size: {(total_text_size / billion):.2f} GB\")"
   ]
  },
  {
   "cell_type": "code",
   "execution_count": 35,
   "metadata": {},
   "outputs": [
    {
     "ename": "TypeError",
     "evalue": "__init__() got an unexpected keyword argument 'unk_token'",
     "output_type": "error",
     "traceback": [
      "\u001b[0;31m---------------------------------------------------------------------------\u001b[0m",
      "\u001b[0;31mTypeError\u001b[0m                                 Traceback (most recent call last)",
      "\u001b[0;32m<ipython-input-35-dfeeba2804c9>\u001b[0m in \u001b[0;36m<module>\u001b[0;34m\u001b[0m\n\u001b[1;32m      8\u001b[0m \u001b[0;31m# Initialize a tokenizer\u001b[0m\u001b[0;34m\u001b[0m\u001b[0;34m\u001b[0m\u001b[0;34m\u001b[0m\u001b[0m\n\u001b[1;32m      9\u001b[0m \u001b[0;34m\u001b[0m\u001b[0m\n\u001b[0;32m---> 10\u001b[0;31m \u001b[0mtokenizer\u001b[0m \u001b[0;34m=\u001b[0m \u001b[0mByteLevelBPETokenizer\u001b[0m\u001b[0;34m(\u001b[0m\u001b[0munk_token\u001b[0m\u001b[0;34m=\u001b[0m\u001b[0;34m\"[UNK]\"\u001b[0m\u001b[0;34m)\u001b[0m\u001b[0;34m.\u001b[0m\u001b[0mfrom_file\u001b[0m\u001b[0;34m(\u001b[0m\u001b[0mvocab_filename\u001b[0m \u001b[0;34m=\u001b[0m \u001b[0mdataset_directory\u001b[0m \u001b[0;34m+\u001b[0m \u001b[0;34m'/gpt2-vocab.json'\u001b[0m\u001b[0;34m,\u001b[0m \u001b[0mmerges_filename\u001b[0m\u001b[0;34m=\u001b[0m\u001b[0mdataset_directory\u001b[0m \u001b[0;34m+\u001b[0m \u001b[0;34m\"/gpt2-merges.txt\"\u001b[0m\u001b[0;34m)\u001b[0m\u001b[0;34m\u001b[0m\u001b[0;34m\u001b[0m\u001b[0m\n\u001b[0m",
      "\u001b[0;31mTypeError\u001b[0m: __init__() got an unexpected keyword argument 'unk_token'"
     ]
    }
   ],
   "source": [
    "from pathlib import Path\n",
    "\n",
    "from tokenizers import ByteLevelBPETokenizer\n",
    "dataset_directory = \"/datadrive/openwebtext2\"\n",
    "\n",
    "paths = [str(x) for x in Path(\"/datadrive/openwebtext2/\").glob(\"**/*.zst\")]\n",
    "\n",
    "# Initialize a tokenizer\n",
    "\n",
    "tokenizer = ByteLevelBPETokenizer(unk_token=\"[UNK]\").from_file(vocab_filename = dataset_directory + '/gpt2-vocab.json', merges_filename=dataset_directory + \"/gpt2-merges.txt\")\n"
   ]
  },
  {
   "cell_type": "code",
   "execution_count": 27,
   "metadata": {},
   "outputs": [
    {
     "data": {
      "text/plain": [
       "Tokenizer(vocabulary_size=50257, model=ByteLevelBPE, add_prefix_space=False, lowercase=False, dropout=None, unicode_normalizer=None, continuing_subword_prefix=None, end_of_word_suffix=None, trim_offsets=False)"
      ]
     },
     "execution_count": 27,
     "metadata": {},
     "output_type": "execute_result"
    }
   ],
   "source": [
    "tokenizer"
   ]
  },
  {
   "cell_type": "code",
   "execution_count": 33,
   "metadata": {},
   "outputs": [
    {
     "data": {
      "text/plain": [
       "['<',\n",
       " '</',\n",
       " 'Ġ<<',\n",
       " '<<',\n",
       " '\"></',\n",
       " 'Ġ<+',\n",
       " 'Ġ<=',\n",
       " '><',\n",
       " '.</',\n",
       " 'Ġ\"<',\n",
       " 'Ġ<[',\n",
       " 'Ġ><',\n",
       " 'Ġ<!--',\n",
       " 'Ġ<@',\n",
       " 'Ġ(<',\n",
       " 'Ġ<',\n",
       " '></',\n",
       " '\\\\<',\n",
       " '<?',\n",
       " '.<',\n",
       " 'Ġ</',\n",
       " ')</',\n",
       " '\"><',\n",
       " 'Ġ<-',\n",
       " '<|endoftext|>']"
      ]
     },
     "execution_count": 33,
     "metadata": {},
     "output_type": "execute_result"
    }
   ],
   "source": [
    "[x for x in tokenizer.get_vocab() if \"\" in x]\n"
   ]
  },
  {
   "cell_type": "code",
   "execution_count": null,
   "metadata": {},
   "outputs": [],
   "source": []
  }
 ],
 "metadata": {
  "kernelspec": {
   "display_name": "Python 3",
   "language": "python",
   "name": "python3"
  },
  "language_info": {
   "codemirror_mode": {
    "name": "ipython",
    "version": 3
   },
   "file_extension": ".py",
   "mimetype": "text/x-python",
   "name": "python",
   "nbconvert_exporter": "python",
   "pygments_lexer": "ipython3",
   "version": "3.8.5"
  }
 },
 "nbformat": 4,
 "nbformat_minor": 4
}
